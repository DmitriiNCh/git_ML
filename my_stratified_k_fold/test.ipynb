{
 "cells": [
  {
   "cell_type": "code",
   "execution_count": 1,
   "id": "a6a852bd",
   "metadata": {},
   "outputs": [
    {
     "name": "stdout",
     "output_type": "stream",
     "text": [
      "============================= test session starts =============================\n",
      "platform win32 -- Python 3.9.7, pytest-6.2.4, py-1.10.0, pluggy-0.13.1\n",
      "rootdir: D:\\lin\\ML\\HW4\n",
      "plugins: anyio-2.2.0\n",
      "collected 13 items\n",
      "\n",
      "test_my_stratified_k_fold_public.py .............                        [100%]\n",
      "\n",
      "============================== warnings summary ===============================\n",
      "C:\\Users\\DNicCH\\anaconda3\\lib\\site-packages\\pyreadline\\py3k_compat.py:8\n",
      "  C:\\Users\\DNicCH\\anaconda3\\lib\\site-packages\\pyreadline\\py3k_compat.py:8: DeprecationWarning: Using or importing the ABCs from 'collections' instead of from 'collections.abc' is deprecated since Python 3.3, and in 3.10 it will stop working\n",
      "    return isinstance(x, collections.Callable)\n",
      "\n",
      "C:\\Users\\DNicCH\\anaconda3\\lib\\site-packages\\win32\\lib\\pywintypes.py:2\n",
      "  C:\\Users\\DNicCH\\anaconda3\\lib\\site-packages\\win32\\lib\\pywintypes.py:2: DeprecationWarning: the imp module is deprecated in favour of importlib; see the module's documentation for alternative uses\n",
      "    import imp, sys, os\n",
      "\n",
      "-- Docs: https://docs.pytest.org/en/stable/warnings.html\n",
      "======================= 13 passed, 2 warnings in 1.59s ========================\n"
     ]
    }
   ],
   "source": [
    "!pytest test_my_stratified_k_fold_public.py"
   ]
  }
 ],
 "metadata": {
  "kernelspec": {
   "display_name": "Python 3 (ipykernel)",
   "language": "python",
   "name": "python3"
  },
  "language_info": {
   "codemirror_mode": {
    "name": "ipython",
    "version": 3
   },
   "file_extension": ".py",
   "mimetype": "text/x-python",
   "name": "python",
   "nbconvert_exporter": "python",
   "pygments_lexer": "ipython3",
   "version": "3.9.7"
  }
 },
 "nbformat": 4,
 "nbformat_minor": 5
}
